{
 "cells": [
  {
   "cell_type": "markdown",
   "metadata": {},
   "source": [
    "# Data Science Class - Learning Data Munging Basics\n"
   ]
  },
  {
   "cell_type": "markdown",
   "metadata": {},
   "source": [
    "Segment 1 - Filtering and selecting the data "
   ]
  },
  {
   "cell_type": "markdown",
   "metadata": {},
   "source": [
    "importing numpy and pandas packages. "
   ]
  },
  {
   "cell_type": "code",
   "execution_count": 1,
   "metadata": {
    "collapsed": true
   },
   "outputs": [],
   "source": [
    "import numpy as np\n",
    "import pandas as pd\n",
    "\n",
    "from pandas import Series, DataFrame"
   ]
  },
  {
   "cell_type": "markdown",
   "metadata": {},
   "source": [
    "# Selecting and retrieving data\n",
    "https://pandas.pydata.org/pandas-docs/stable/indexing.html"
   ]
  },
  {
   "cell_type": "markdown",
   "metadata": {},
   "source": [
    "Create a Series object and print contents in it.\n",
    "NB: it is arange. not arrange."
   ]
  },
  {
   "cell_type": "code",
   "execution_count": 3,
   "metadata": {},
   "outputs": [
    {
     "data": {
      "text/plain": [
       "Row 1    0\n",
       "Row 2    1\n",
       "Row 3    2\n",
       "Row 4    3\n",
       "Row 5    4\n",
       "dtype: int32"
      ]
     },
     "execution_count": 3,
     "metadata": {},
     "output_type": "execute_result"
    }
   ],
   "source": [
    "series_obj = Series(np.arange(5), index=[\n",
    "    'Row 1',\n",
    "    'Row 2',\n",
    "    'Row 3',\n",
    "    'Row 4',\n",
    "    'Row 5'    \n",
    "])\n",
    "\n",
    "series_obj"
   ]
  },
  {
   "cell_type": "code",
   "execution_count": 4,
   "metadata": {},
   "outputs": [
    {
     "data": {
      "text/plain": [
       "2"
      ]
     },
     "execution_count": 4,
     "metadata": {},
     "output_type": "execute_result"
    }
   ],
   "source": [
    "#Selecting a particular row from the above data set\n",
    "#['label-index']\n",
    "\n",
    "series_obj['Row 3']"
   ]
  },
  {
   "cell_type": "code",
   "execution_count": 13,
   "metadata": {},
   "outputs": [
    {
     "data": {
      "text/plain": [
       "2"
      ]
     },
     "execution_count": 13,
     "metadata": {},
     "output_type": "execute_result"
    }
   ],
   "source": [
    "# If you pass an integer index. It will do the same (It is 0 based, as expected from our known programming languages)\n",
    "#['integer-index']\n",
    "series_obj[2]\n",
    "\n",
    "# You can select multiple data at the same time - uncomment to see\n",
    "#series_obj[[1, 3]]"
   ]
  },
  {
   "cell_type": "markdown",
   "metadata": {},
   "source": [
    "Using Random Number generator for data frame object"
   ]
  },
  {
   "cell_type": "code",
   "execution_count": 22,
   "metadata": {},
   "outputs": [
    {
     "data": {
      "text/html": [
       "<div>\n",
       "<style>\n",
       "    .dataframe thead tr:only-child th {\n",
       "        text-align: right;\n",
       "    }\n",
       "\n",
       "    .dataframe thead th {\n",
       "        text-align: left;\n",
       "    }\n",
       "\n",
       "    .dataframe tbody tr th {\n",
       "        vertical-align: top;\n",
       "    }\n",
       "</style>\n",
       "<table border=\"1\" class=\"dataframe\">\n",
       "  <thead>\n",
       "    <tr style=\"text-align: right;\">\n",
       "      <th></th>\n",
       "      <th>Column 1</th>\n",
       "      <th>Column 2</th>\n",
       "      <th>Column 3</th>\n",
       "      <th>Column 4</th>\n",
       "      <th>Column 5</th>\n",
       "      <th>Column 6</th>\n",
       "      <th>Column 7</th>\n",
       "    </tr>\n",
       "  </thead>\n",
       "  <tbody>\n",
       "    <tr>\n",
       "      <th>Row 1</th>\n",
       "      <td>0.858889</td>\n",
       "      <td>0.372711</td>\n",
       "      <td>0.555129</td>\n",
       "      <td>0.955657</td>\n",
       "      <td>0.736670</td>\n",
       "      <td>0.816205</td>\n",
       "      <td>0.101087</td>\n",
       "    </tr>\n",
       "    <tr>\n",
       "      <th>Row 2</th>\n",
       "      <td>0.928488</td>\n",
       "      <td>0.609109</td>\n",
       "      <td>0.596553</td>\n",
       "      <td>0.091784</td>\n",
       "      <td>0.345186</td>\n",
       "      <td>0.662753</td>\n",
       "      <td>0.441713</td>\n",
       "    </tr>\n",
       "    <tr>\n",
       "      <th>Row 3</th>\n",
       "      <td>0.551488</td>\n",
       "      <td>0.703712</td>\n",
       "      <td>0.589401</td>\n",
       "      <td>0.049933</td>\n",
       "      <td>0.561792</td>\n",
       "      <td>0.766358</td>\n",
       "      <td>0.910908</td>\n",
       "    </tr>\n",
       "    <tr>\n",
       "      <th>Row 4</th>\n",
       "      <td>0.092910</td>\n",
       "      <td>0.902521</td>\n",
       "      <td>0.460960</td>\n",
       "      <td>0.452018</td>\n",
       "      <td>0.999425</td>\n",
       "      <td>0.162424</td>\n",
       "      <td>0.709371</td>\n",
       "    </tr>\n",
       "    <tr>\n",
       "      <th>Row 5</th>\n",
       "      <td>0.160624</td>\n",
       "      <td>0.810777</td>\n",
       "      <td>0.035147</td>\n",
       "      <td>0.534887</td>\n",
       "      <td>0.166500</td>\n",
       "      <td>0.308410</td>\n",
       "      <td>0.045062</td>\n",
       "    </tr>\n",
       "    <tr>\n",
       "      <th>Row 6</th>\n",
       "      <td>0.238576</td>\n",
       "      <td>0.674835</td>\n",
       "      <td>0.782383</td>\n",
       "      <td>0.695202</td>\n",
       "      <td>0.328954</td>\n",
       "      <td>0.494032</td>\n",
       "      <td>0.524121</td>\n",
       "    </tr>\n",
       "    <tr>\n",
       "      <th>Row 7</th>\n",
       "      <td>0.298541</td>\n",
       "      <td>0.463108</td>\n",
       "      <td>0.984784</td>\n",
       "      <td>0.501135</td>\n",
       "      <td>0.398072</td>\n",
       "      <td>0.727905</td>\n",
       "      <td>0.863331</td>\n",
       "    </tr>\n",
       "  </tbody>\n",
       "</table>\n",
       "</div>"
      ],
      "text/plain": [
       "       Column 1  Column 2  Column 3  Column 4  Column 5  Column 6  Column 7\n",
       "Row 1  0.858889  0.372711  0.555129  0.955657  0.736670  0.816205  0.101087\n",
       "Row 2  0.928488  0.609109  0.596553  0.091784  0.345186  0.662753  0.441713\n",
       "Row 3  0.551488  0.703712  0.589401  0.049933  0.561792  0.766358  0.910908\n",
       "Row 4  0.092910  0.902521  0.460960  0.452018  0.999425  0.162424  0.709371\n",
       "Row 5  0.160624  0.810777  0.035147  0.534887  0.166500  0.308410  0.045062\n",
       "Row 6  0.238576  0.674835  0.782383  0.695202  0.328954  0.494032  0.524121\n",
       "Row 7  0.298541  0.463108  0.984784  0.501135  0.398072  0.727905  0.863331"
      ]
     },
     "execution_count": 22,
     "metadata": {},
     "output_type": "execute_result"
    }
   ],
   "source": [
    "#seeding a number\n",
    "np.random.seed(32)\n",
    "#creating an object\n",
    "dataframe_obj = DataFrame(np.random.rand(49).reshape((7, 7)), index=[\n",
    "    'Row 1',\n",
    "    'Row 2',\n",
    "    'Row 3',\n",
    "    'Row 4',\n",
    "    'Row 5',\n",
    "    'Row 6',\n",
    "    'Row 7'\n",
    "], columns=[\n",
    "    'Column 1',\n",
    "    'Column 2',\n",
    "    'Column 3',\n",
    "    'Column 4',\n",
    "    'Column 5',\n",
    "    'Column 6',\n",
    "    'Column 7'\n",
    "])\n",
    "\n",
    "dataframe_obj"
   ]
  },
  {
   "cell_type": "code",
   "execution_count": 25,
   "metadata": {},
   "outputs": [
    {
     "data": {
      "text/html": [
       "<div>\n",
       "<style>\n",
       "    .dataframe thead tr:only-child th {\n",
       "        text-align: right;\n",
       "    }\n",
       "\n",
       "    .dataframe thead th {\n",
       "        text-align: left;\n",
       "    }\n",
       "\n",
       "    .dataframe tbody tr th {\n",
       "        vertical-align: top;\n",
       "    }\n",
       "</style>\n",
       "<table border=\"1\" class=\"dataframe\">\n",
       "  <thead>\n",
       "    <tr style=\"text-align: right;\">\n",
       "      <th></th>\n",
       "      <th>Column 5</th>\n",
       "      <th>Column 6</th>\n",
       "    </tr>\n",
       "  </thead>\n",
       "  <tbody>\n",
       "    <tr>\n",
       "      <th>Row 1</th>\n",
       "      <td>0.736670</td>\n",
       "      <td>0.816205</td>\n",
       "    </tr>\n",
       "    <tr>\n",
       "      <th>Row 3</th>\n",
       "      <td>0.561792</td>\n",
       "      <td>0.766358</td>\n",
       "    </tr>\n",
       "  </tbody>\n",
       "</table>\n",
       "</div>"
      ],
      "text/plain": [
       "       Column 5  Column 6\n",
       "Row 1  0.736670  0.816205\n",
       "Row 3  0.561792  0.766358"
      ]
     },
     "execution_count": 25,
     "metadata": {},
     "output_type": "execute_result"
    }
   ],
   "source": [
    "#Get data from the above data frame\n",
    "#Fetching data for the specified rows and columns\n",
    "\n",
    "dataframe_obj.ix[['Row 1', 'Row 3'], ['Column 5', 'Column 6']]"
   ]
  },
  {
   "cell_type": "markdown",
   "metadata": {},
   "source": [
    "# Data Slicing"
   ]
  },
  {
   "cell_type": "code",
   "execution_count": 26,
   "metadata": {},
   "outputs": [
    {
     "data": {
      "text/plain": [
       "Row 2    1\n",
       "Row 3    2\n",
       "Row 4    3\n",
       "dtype: int32"
      ]
     },
     "execution_count": 26,
     "metadata": {},
     "output_type": "execute_result"
    }
   ],
   "source": [
    "#Data slicing allows you to select portions of your dataset.\n",
    "#[starting-label-index : ending-label-index]\n",
    "series_obj['Row 2' : 'Row 4']"
   ]
  },
  {
   "cell_type": "markdown",
   "metadata": {},
   "source": [
    "# Comparing with Scalars"
   ]
  },
  {
   "cell_type": "code",
   "execution_count": 27,
   "metadata": {},
   "outputs": [
    {
     "data": {
      "text/html": [
       "<div>\n",
       "<style>\n",
       "    .dataframe thead tr:only-child th {\n",
       "        text-align: right;\n",
       "    }\n",
       "\n",
       "    .dataframe thead th {\n",
       "        text-align: left;\n",
       "    }\n",
       "\n",
       "    .dataframe tbody tr th {\n",
       "        vertical-align: top;\n",
       "    }\n",
       "</style>\n",
       "<table border=\"1\" class=\"dataframe\">\n",
       "  <thead>\n",
       "    <tr style=\"text-align: right;\">\n",
       "      <th></th>\n",
       "      <th>Column 1</th>\n",
       "      <th>Column 2</th>\n",
       "      <th>Column 3</th>\n",
       "      <th>Column 4</th>\n",
       "      <th>Column 5</th>\n",
       "      <th>Column 6</th>\n",
       "      <th>Column 7</th>\n",
       "    </tr>\n",
       "  </thead>\n",
       "  <tbody>\n",
       "    <tr>\n",
       "      <th>Row 1</th>\n",
       "      <td>False</td>\n",
       "      <td>False</td>\n",
       "      <td>False</td>\n",
       "      <td>False</td>\n",
       "      <td>False</td>\n",
       "      <td>False</td>\n",
       "      <td>True</td>\n",
       "    </tr>\n",
       "    <tr>\n",
       "      <th>Row 2</th>\n",
       "      <td>False</td>\n",
       "      <td>False</td>\n",
       "      <td>False</td>\n",
       "      <td>True</td>\n",
       "      <td>False</td>\n",
       "      <td>False</td>\n",
       "      <td>False</td>\n",
       "    </tr>\n",
       "    <tr>\n",
       "      <th>Row 3</th>\n",
       "      <td>False</td>\n",
       "      <td>False</td>\n",
       "      <td>False</td>\n",
       "      <td>True</td>\n",
       "      <td>False</td>\n",
       "      <td>False</td>\n",
       "      <td>False</td>\n",
       "    </tr>\n",
       "    <tr>\n",
       "      <th>Row 4</th>\n",
       "      <td>True</td>\n",
       "      <td>False</td>\n",
       "      <td>False</td>\n",
       "      <td>False</td>\n",
       "      <td>False</td>\n",
       "      <td>True</td>\n",
       "      <td>False</td>\n",
       "    </tr>\n",
       "    <tr>\n",
       "      <th>Row 5</th>\n",
       "      <td>True</td>\n",
       "      <td>False</td>\n",
       "      <td>True</td>\n",
       "      <td>False</td>\n",
       "      <td>True</td>\n",
       "      <td>False</td>\n",
       "      <td>True</td>\n",
       "    </tr>\n",
       "    <tr>\n",
       "      <th>Row 6</th>\n",
       "      <td>False</td>\n",
       "      <td>False</td>\n",
       "      <td>False</td>\n",
       "      <td>False</td>\n",
       "      <td>False</td>\n",
       "      <td>False</td>\n",
       "      <td>False</td>\n",
       "    </tr>\n",
       "    <tr>\n",
       "      <th>Row 7</th>\n",
       "      <td>False</td>\n",
       "      <td>False</td>\n",
       "      <td>False</td>\n",
       "      <td>False</td>\n",
       "      <td>False</td>\n",
       "      <td>False</td>\n",
       "      <td>False</td>\n",
       "    </tr>\n",
       "  </tbody>\n",
       "</table>\n",
       "</div>"
      ],
      "text/plain": [
       "       Column 1  Column 2  Column 3  Column 4  Column 5  Column 6  Column 7\n",
       "Row 1     False     False     False     False     False     False      True\n",
       "Row 2     False     False     False      True     False     False     False\n",
       "Row 3     False     False     False      True     False     False     False\n",
       "Row 4      True     False     False     False     False      True     False\n",
       "Row 5      True     False      True     False      True     False      True\n",
       "Row 6     False     False     False     False     False     False     False\n",
       "Row 7     False     False     False     False     False     False     False"
      ]
     },
     "execution_count": 27,
     "metadata": {},
     "output_type": "execute_result"
    }
   ],
   "source": [
    "dataframe_obj < 0.2"
   ]
  },
  {
   "cell_type": "markdown",
   "metadata": {},
   "source": [
    "# Filtering with scalar values"
   ]
  },
  {
   "cell_type": "code",
   "execution_count": 28,
   "metadata": {},
   "outputs": [
    {
     "data": {
      "text/html": [
       "<div>\n",
       "<style>\n",
       "    .dataframe thead tr:only-child th {\n",
       "        text-align: right;\n",
       "    }\n",
       "\n",
       "    .dataframe thead th {\n",
       "        text-align: left;\n",
       "    }\n",
       "\n",
       "    .dataframe tbody tr th {\n",
       "        vertical-align: top;\n",
       "    }\n",
       "</style>\n",
       "<table border=\"1\" class=\"dataframe\">\n",
       "  <thead>\n",
       "    <tr style=\"text-align: right;\">\n",
       "      <th></th>\n",
       "      <th>Column 1</th>\n",
       "      <th>Column 2</th>\n",
       "      <th>Column 3</th>\n",
       "      <th>Column 4</th>\n",
       "      <th>Column 5</th>\n",
       "      <th>Column 6</th>\n",
       "      <th>Column 7</th>\n",
       "    </tr>\n",
       "  </thead>\n",
       "  <tbody>\n",
       "    <tr>\n",
       "      <th>Row 1</th>\n",
       "      <td>0.858889</td>\n",
       "      <td>NaN</td>\n",
       "      <td>0.555129</td>\n",
       "      <td>0.955657</td>\n",
       "      <td>0.736670</td>\n",
       "      <td>0.816205</td>\n",
       "      <td>NaN</td>\n",
       "    </tr>\n",
       "    <tr>\n",
       "      <th>Row 2</th>\n",
       "      <td>0.928488</td>\n",
       "      <td>0.609109</td>\n",
       "      <td>0.596553</td>\n",
       "      <td>NaN</td>\n",
       "      <td>NaN</td>\n",
       "      <td>0.662753</td>\n",
       "      <td>NaN</td>\n",
       "    </tr>\n",
       "    <tr>\n",
       "      <th>Row 3</th>\n",
       "      <td>0.551488</td>\n",
       "      <td>0.703712</td>\n",
       "      <td>0.589401</td>\n",
       "      <td>NaN</td>\n",
       "      <td>0.561792</td>\n",
       "      <td>0.766358</td>\n",
       "      <td>0.910908</td>\n",
       "    </tr>\n",
       "    <tr>\n",
       "      <th>Row 4</th>\n",
       "      <td>NaN</td>\n",
       "      <td>0.902521</td>\n",
       "      <td>NaN</td>\n",
       "      <td>NaN</td>\n",
       "      <td>0.999425</td>\n",
       "      <td>NaN</td>\n",
       "      <td>0.709371</td>\n",
       "    </tr>\n",
       "    <tr>\n",
       "      <th>Row 5</th>\n",
       "      <td>NaN</td>\n",
       "      <td>0.810777</td>\n",
       "      <td>NaN</td>\n",
       "      <td>0.534887</td>\n",
       "      <td>NaN</td>\n",
       "      <td>NaN</td>\n",
       "      <td>NaN</td>\n",
       "    </tr>\n",
       "    <tr>\n",
       "      <th>Row 6</th>\n",
       "      <td>NaN</td>\n",
       "      <td>0.674835</td>\n",
       "      <td>0.782383</td>\n",
       "      <td>0.695202</td>\n",
       "      <td>NaN</td>\n",
       "      <td>NaN</td>\n",
       "      <td>0.524121</td>\n",
       "    </tr>\n",
       "    <tr>\n",
       "      <th>Row 7</th>\n",
       "      <td>NaN</td>\n",
       "      <td>NaN</td>\n",
       "      <td>0.984784</td>\n",
       "      <td>0.501135</td>\n",
       "      <td>NaN</td>\n",
       "      <td>0.727905</td>\n",
       "      <td>0.863331</td>\n",
       "    </tr>\n",
       "  </tbody>\n",
       "</table>\n",
       "</div>"
      ],
      "text/plain": [
       "       Column 1  Column 2  Column 3  Column 4  Column 5  Column 6  Column 7\n",
       "Row 1  0.858889       NaN  0.555129  0.955657  0.736670  0.816205       NaN\n",
       "Row 2  0.928488  0.609109  0.596553       NaN       NaN  0.662753       NaN\n",
       "Row 3  0.551488  0.703712  0.589401       NaN  0.561792  0.766358  0.910908\n",
       "Row 4       NaN  0.902521       NaN       NaN  0.999425       NaN  0.709371\n",
       "Row 5       NaN  0.810777       NaN  0.534887       NaN       NaN       NaN\n",
       "Row 6       NaN  0.674835  0.782383  0.695202       NaN       NaN  0.524121\n",
       "Row 7       NaN       NaN  0.984784  0.501135       NaN  0.727905  0.863331"
      ]
     },
     "execution_count": 28,
     "metadata": {},
     "output_type": "execute_result"
    }
   ],
   "source": [
    "dataframe_obj[dataframe_obj > 0.5]"
   ]
  },
  {
   "cell_type": "markdown",
   "metadata": {},
   "source": [
    "# Setting Values with Scalars\n"
   ]
  },
  {
   "cell_type": "code",
   "execution_count": 31,
   "metadata": {
    "collapsed": true
   },
   "outputs": [],
   "source": [
    "#Single or multiple- anything would work\n",
    "series_obj['Row 3', 'Row 4'] = 59"
   ]
  },
  {
   "cell_type": "code",
   "execution_count": 32,
   "metadata": {},
   "outputs": [
    {
     "data": {
      "text/plain": [
       "Row 1     0\n",
       "Row 2     1\n",
       "Row 3    59\n",
       "Row 4    59\n",
       "Row 5     4\n",
       "dtype: int32"
      ]
     },
     "execution_count": 32,
     "metadata": {},
     "output_type": "execute_result"
    }
   ],
   "source": [
    "series_obj"
   ]
  },
  {
   "cell_type": "code",
   "execution_count": null,
   "metadata": {
    "collapsed": true
   },
   "outputs": [],
   "source": []
  }
 ],
 "metadata": {
  "kernelspec": {
   "display_name": "Python 3",
   "language": "python",
   "name": "python3"
  },
  "language_info": {
   "codemirror_mode": {
    "name": "ipython",
    "version": 3
   },
   "file_extension": ".py",
   "mimetype": "text/x-python",
   "name": "python",
   "nbconvert_exporter": "python",
   "pygments_lexer": "ipython3",
   "version": "3.6.3"
  }
 },
 "nbformat": 4,
 "nbformat_minor": 2
}
